{
 "metadata": {
  "language_info": {
   "codemirror_mode": {
    "name": "ipython",
    "version": 3
   },
   "file_extension": ".py",
   "mimetype": "text/x-python",
   "name": "python",
   "nbconvert_exporter": "python",
   "pygments_lexer": "ipython3",
   "version": "3.8.5"
  },
  "orig_nbformat": 4,
  "kernelspec": {
   "name": "python3",
   "display_name": "Python 3.8.5 64-bit ('base': conda)"
  },
  "interpreter": {
   "hash": "183aacddadb698040f8fb7a091fc7b8f830702c353ddf1b19dbfe19f01b6d716"
  }
 },
 "nbformat": 4,
 "nbformat_minor": 2,
 "cells": [
  {
   "source": [
    "#### 문제 1. for문을 사용하여 딕셔너리 타입의 d의 모든 value를 출력해 보시오."
   ],
   "cell_type": "markdown",
   "metadata": {}
  },
  {
   "cell_type": "code",
   "execution_count": 1,
   "metadata": {},
   "outputs": [
    {
     "output_type": "stream",
     "name": "stdout",
     "text": [
      "1 2 10 "
     ]
    }
   ],
   "source": [
    "# 1번째 방법\n",
    "d = {'youn' : 1, 'park' : 2, 'kim' : 10}\n",
    "for v in d.values():\n",
    "    print(v, end = \" \") "
   ]
  },
  {
   "cell_type": "code",
   "execution_count": 3,
   "metadata": {},
   "outputs": [
    {
     "output_type": "stream",
     "name": "stdout",
     "text": [
      "1 2 10 "
     ]
    }
   ],
   "source": [
    "# 2번째 방법\n",
    "d = {'youn' : 1, 'park' : 2, 'kim' : 10}\n",
    "for k, v in d.items():\n",
    "    print(v, end = \" \")"
   ]
  },
  {
   "source": [
    "#### 문제 2. 아래와 같은 딕셔너리가 있다.\n",
    "#### {'one' : 1, 'two' : 2, 'three' : 3, 'four' : 4, 'five' : 5}\n",
    "#### key의 알파벳을 기준으로 순서대로 아래와 같이 (key, value)로 출력하시오."
   ],
   "cell_type": "markdown",
   "metadata": {}
  },
  {
   "cell_type": "code",
   "execution_count": 5,
   "metadata": {},
   "outputs": [
    {
     "output_type": "stream",
     "name": "stdout",
     "text": [
      "five 5\nfour 4\none 1\nthree 3\ntwo 2\n"
     ]
    }
   ],
   "source": [
    "# 1번째 방법\n",
    "d = {'one' : 1, 'two' : 2, 'three' : 3, 'four' : 4, 'five' : 5}\n",
    "for key in sorted(d.keys()):\n",
    "    print(key, d[key])"
   ]
  },
  {
   "cell_type": "code",
   "execution_count": 6,
   "metadata": {},
   "outputs": [
    {
     "output_type": "stream",
     "name": "stdout",
     "text": [
      "five 5\nfour 4\none 1\nthree 3\ntwo 2\n"
     ]
    }
   ],
   "source": [
    "# 2번째 방법\n",
    "d = {'one' : 1, 'two' : 2, 'three' : 3, 'four' : 4, 'five' : 5}\n",
    "for key in sorted(d):\n",
    "    print(key, d[key])"
   ]
  },
  {
   "source": [
    "#### 문제 3. 어떤 문장을 입력 받으면 해당 문장에서 각 알파벳이 몇 개씩 나오는지 저장하는 딕셔너리를 만든 후, 아래와 같이 출력하시오.\n",
    "#### -----------------------------------------------------------------------------------------\n",
    "#### Enter a sentence : Python is fun!\n",
    "#### {'P': 1, 'y': 1, 't': 1, 'h': 1, 'o': 1, 'n': 2, ' ': 2, 'i': 1, 's': 1, 'f': 1, 'u': 1, '!': 1}"
   ],
   "cell_type": "markdown",
   "metadata": {}
  },
  {
   "cell_type": "code",
   "execution_count": 8,
   "metadata": {},
   "outputs": [
    {
     "output_type": "stream",
     "name": "stdout",
     "text": [
      "{'P': 1, 'y': 1, 't': 1, 'h': 1, 'o': 1, 'n': 2, ' ': 2, 'i': 1, 's': 1, 'f': 1, 'u': 1, '!': 1}\n"
     ]
    }
   ],
   "source": [
    "sentence = input(\"Enter a sentence : \")\n",
    "\n",
    "dic = dict()\n",
    "for a in sentence:\n",
    "    if a in dic.keys():\n",
    "        dic[a] += 1\n",
    "    else :\n",
    "        dic[a] = 1\n",
    "print(dic)"
   ]
  }
 ]
}