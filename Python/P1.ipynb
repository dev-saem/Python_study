{
 "cells": [
  {
   "cell_type": "markdown",
   "metadata": {},
   "source": [
    "#### 문제 1. 화씨온도(F)를 입력 받아서 섭씨온도(C)로 바꾸는 프로그램을 작성하시오.\n",
    "#### C=(F-32)*5/9\n",
    "#### -----------------------------------------------------------------------------------------\n",
    "#### 화씨온도 : 100\n",
    "#### 섭씨온도 : 37.7777777778"
   ]
  },
  {
   "cell_type": "code",
   "execution_count": 1,
   "metadata": {},
   "outputs": [
    {
     "output_type": "stream",
     "name": "stdout",
     "text": [
      "섭씨온도 :  37.77777777777778\n"
     ]
    }
   ],
   "source": [
    "F = float(input(\"화씨온도 : \"))\n",
    "C = (F-32)*5/9\n",
    "print(\"섭씨온도 : \", C)"
   ]
  },
  {
   "cell_type": "markdown",
   "metadata": {},
   "source": [
    "#### 문제 2. 사용자로부터 투입한 돈과 물건 값을 입력 받아, 잔돈을 계산하여 출력한다. (단, 동전의 개수는 최소화 할 것)\n",
    "#### (가정)\n",
    "#### - 물건 값은 100원 단위\n",
    "#### - 자판기의 동전은 500원, 100원만 있음\n",
    "#### -----------------------------------------------------------------------------------------\n",
    "#### 투입한 돈 : 5000\n",
    "#### 물건값 : 2700\n",
    "#### 거스름돈 : 2300\n",
    "#### 500원짜리 : 4개\n",
    "#### 100원짜리 : 3개"
   ]
  },
  {
   "cell_type": "code",
   "execution_count": 2,
   "metadata": {},
   "outputs": [
    {
     "output_type": "stream",
     "name": "stdout",
     "text": [
      "거스름돈 :  2300\n500원짜리 :  4\n100원짜리 :  3\n"
     ]
    }
   ],
   "source": [
    "money = int(input(\"투입한 돈 : \"))\n",
    "price = int(input(\"물건값 : \"))\n",
    "change = money - price\n",
    "print(\"거스름돈 : \", change)\n",
    "coin500 = change//500\n",
    "coin100 = (change%500)//100\n",
    "print(\"500원짜리 : \", coin500)\n",
    "print(\"100원짜리 : \", coin100)"
   ]
  },
  {
   "source": [
    "#### 문제 3. 원의 반지름을 r을 입력 받아, 원의 둘레와 넓이를 구하는 프로그램을 작성하시오.\n",
    "#### - 원 둘레 : 2*pi*r (단, pi는 3.141592)\n",
    "#### - 원 넓이 : pi*r^2\n",
    "#### -----------------------------------------------------------------------------------------\n",
    "#### 반지름을 입력하시오 : 5\n",
    "#### 원 둘레 : 31.42\n",
    "#### 원 넓이 : 78.54"
   ],
   "cell_type": "markdown",
   "metadata": {}
  },
  {
   "source": [
    "r = float(input(\"반지름을 입력하시오 : \"))\n",
    "pi = 3.141592\n",
    "circumference = 2*pi*r\n",
    "area = pi*(r**2)\n",
    "print(\"원 둘레 : \", round(circumference,2))\n",
    "print(\"원 넓이 : \", round(area,2))"
   ],
   "cell_type": "code",
   "metadata": {},
   "execution_count": 3,
   "outputs": [
    {
     "output_type": "stream",
     "name": "stdout",
     "text": [
      "원 둘레 :  31.42\n원 넓이 :  78.54\n"
     ]
    }
   ]
  },
  {
   "source": [
    "#### 문제 4. 2개의 정수를 입력 받아, 사칙연산 및 나머지 연산의 결과를 아래와 같이 출력하는 프로그램을 작성하시오.\n",
    "#### -----------------------------------------------------------------------------------------\n",
    "#### Enter two integers : 8 5\n",
    "#### 8 + 5 = 13\n",
    "#### 8 - 5 = 3\n",
    "#### 8 * 5 = 40\n",
    "#### 8 / 5 = 1.6\n",
    "#### 8 % 5 = 3"
   ],
   "cell_type": "markdown",
   "metadata": {}
  },
  {
   "cell_type": "code",
   "execution_count": 4,
   "metadata": {},
   "outputs": [
    {
     "output_type": "stream",
     "name": "stdout",
     "text": [
      "8 + 5 = 13\n8 - 5 =  3\n8 * 5 = 40\n8 / 5 = 1.6\n8 % 5 =  3\n"
     ]
    }
   ],
   "source": [
    "numbers = input('Enter two integers : ')\n",
    "a,b = numbers.split()\n",
    "a = int(a)\n",
    "b = int(b)\n",
    "print(\"%d + %d = %2d\" % (a,b,a+b))\n",
    "print(\"%d - %d = %2d\" % (a,b,a-b))\n",
    "print(\"%d * %d = %2d\" % (a,b,a*b))\n",
    "print(\"%d / %d = %.1f\" % (a,b,a/b))\n",
    "print(\"%d %% %d = %2d\" % (a,b,a%b))"
   ]
  },
  {
   "source": [
    "#### 문제 5. 두 정수를 입력 받아, 합과 평균을 구하여 출력하는 프로그램을 작성하시오. (평균 소수 첫째 자리까지 나타내기)\n",
    "#### -----------------------------------------------------------------------------------------\n",
    "#### Enter two integers : 70 91\n",
    "#### The sum of 70 and 91 is 161\n",
    "#### The average of numbers is 80.5"
   ],
   "cell_type": "markdown",
   "metadata": {}
  },
  {
   "cell_type": "code",
   "execution_count": 6,
   "metadata": {},
   "outputs": [
    {
     "output_type": "stream",
     "name": "stdout",
     "text": [
      "The sum of 70 and 91 is 161\nThe average of numbers is 80.5\n"
     ]
    }
   ],
   "source": [
    "numbers = input('Enter two integers : ')\n",
    "a,b = numbers.split()\n",
    "a = int(a)\n",
    "b = int(b)\n",
    "total = a + b\n",
    "avg = total/2\n",
    "print(\"The sum of %d and %d is %d\" %(a,b,total))\n",
    "print(\"The average of numbers is %.1f\" % avg)"
   ]
  },
  {
   "source": [
    "#### 문제 6. 아래의 실행예제를 참고하여 프로그램을 작성하라.\n",
    "#### -----------------------------------------------------------------------------------------\n",
    "#### 날짜(연/월/일)입력 : 2021/03/15\n",
    "#### 입력한 날짜의 10년 후는 2031년 3월 15일"
   ],
   "cell_type": "markdown",
   "metadata": {}
  },
  {
   "cell_type": "code",
   "execution_count": 17,
   "metadata": {},
   "outputs": [
    {
     "output_type": "stream",
     "name": "stdout",
     "text": [
      "입력한 날짜의 10년 후는 2031년 3월 15일\n"
     ]
    }
   ],
   "source": [
    "date = input('날짜(연/월/일)입력 : ')\n",
    "year, month, day = map(int,date.split('/'))\n",
    "print(\"입력한 날짜의 10년 후는 %d년 %d월 %d일\" %(year+10, month, day))"
   ]
  }
 ],
 "metadata": {
  "kernelspec": {
   "display_name": "py36",
   "language": "python",
   "name": "py36"
  }
 },
 "nbformat": 4,
 "nbformat_minor": 4
}