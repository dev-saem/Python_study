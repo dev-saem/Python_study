{
 "metadata": {
  "language_info": {
   "codemirror_mode": {
    "name": "ipython",
    "version": 3
   },
   "file_extension": ".py",
   "mimetype": "text/x-python",
   "name": "python",
   "nbconvert_exporter": "python",
   "pygments_lexer": "ipython3",
   "version": "3.8.5"
  },
  "orig_nbformat": 4,
  "kernelspec": {
   "name": "python3",
   "display_name": "Python 3.8.5 64-bit ('base': conda)"
  },
  "interpreter": {
   "hash": "183aacddadb698040f8fb7a091fc7b8f830702c353ddf1b19dbfe19f01b6d716"
  }
 },
 "nbformat": 4,
 "nbformat_minor": 2,
 "cells": [
  {
   "source": [
    "#### 문제 1. 파일에 있는 각각의 단어 수 구하기\n",
    "#### -----------------------------------------------------------------------------------------\n",
    "#### <test.txt>\n",
    "#### first line\n",
    "#### second line\n",
    "#### third line"
   ],
   "cell_type": "markdown",
   "metadata": {}
  },
  {
   "cell_type": "code",
   "execution_count": 2,
   "metadata": {},
   "outputs": [
    {
     "output_type": "stream",
     "name": "stdout",
     "text": [
      "first 1\nline 3\nsecond 1\nthird 1\n"
     ]
    }
   ],
   "source": [
    "dic = {}\n",
    "infile = open(\"text.txt\", \"r\")\n",
    "for line in infile:\n",
    "    L = line.split()\n",
    "    for word in L:\n",
    "        if word in dic:\n",
    "            dic[word] += 1\n",
    "        else:\n",
    "            dic[word] = 1\n",
    "infile.close()\n",
    "\n",
    "for word in dic:\n",
    "    print(word, dic[word])"
   ]
  },
  {
   "source": [
    "#### 문제 2. 파일명을 입력 받아, 해당 파일을 한 줄씩 읽어 파일의 내용을 모두 대문자로 출력하는 프로그램을 작성하시오. 단, 파일이 없는 경우 \"파일이 존재하지 않는다\"정도의 아래 메시지를 출력할 것!\n",
    "#### -----------------------------------------------------------------------------------------\n",
    "#### Enter a file name : text.txt\n",
    "#### FIRST LINE\n",
    "#### SECOND LINE\n",
    "#### THIRD LINE"
   ],
   "cell_type": "markdown",
   "metadata": {}
  },
  {
   "cell_type": "code",
   "execution_count": 3,
   "metadata": {},
   "outputs": [
    {
     "output_type": "stream",
     "name": "stdout",
     "text": [
      "FIRST LINE\nSECOND LINE\nTHIRD LINE"
     ]
    }
   ],
   "source": [
    "import os\n",
    "\n",
    "filename = input(\"Enter a file name : \")\n",
    "if os.path.exists(filename):\n",
    "    infile = open(filename, \"r\")\n",
    "    for line in infile:\n",
    "        print(line.upper(), end = \"\")\n",
    "    infile.close()\n",
    "else:\n",
    "    print(\"%s file does not exists\\n\" %filename)"
   ]
  },
  {
   "source": [
    "#### 문제 3. 아래의 score.txt를 읽어서 학생들의 성적을 처리하여 그 결과를 report.txt로 출력하는 프로그램을 작성하시오.\n",
    "#### (총점) 중간고사 40%, 기말고사 60%\n",
    "#### (학점기준)\n",
    "#### 총점이 90 이상이면 A,\n",
    "#### 80이상 ~ 90미만이면 B\n",
    "#### 70이상 ~ 80미만이면 C\n",
    "#### 60이상 ~ 70미만이면 D\n",
    "#### 60미만이면 F\n",
    "#### -----------------------------------------------------------------------------------------\n",
    "#### <score.txt>\n",
    "#### 각 줄(line) 단위로 한 학생의 학번, 중간고사 점수, 기말고사 점수가 순서대로 기록되어 있다.\n",
    "#### 201901 89  78\n",
    "#### 201902 76  84\n",
    "#### 201903 67  42\n",
    "#### 201904 66  88\n",
    "#### 201905 98  99"
   ],
   "cell_type": "markdown",
   "metadata": {}
  },
  {
   "cell_type": "code",
   "execution_count": 1,
   "metadata": {},
   "outputs": [],
   "source": [
    "def calc_average(m, f):\n",
    "    return (m + f) / 2\n",
    "\n",
    "def calc_grade(avg):\n",
    "    if avg >= 90:\n",
    "        grade = \"A\"\n",
    "    elif avg >= 80:\n",
    "        grade = \"B\"\n",
    "    elif avg >= 70:\n",
    "        grade = \"C\"\n",
    "    elif avg >= 60:\n",
    "        grade = \"D\"\n",
    "    else :\n",
    "        grade = \"F\"\n",
    "    return grade\n",
    "\n",
    "input_file = open(\"score.txt\", \"r\")\n",
    "output_file = open(\"report.txt\", \"w\")\n",
    "\n",
    "for line in input_file:\n",
    "    s_info = list(map(int, line.split()))\n",
    "    s_id, mid, final = s_info\n",
    "    avg = calc_average(mid, final)\n",
    "    grade = calc_grade(avg)\n",
    "\n",
    "    data = \"%d %d %d %5.1f(%s)\\n\" %(s_id, mid, final, avg, grade)\n",
    "    output_file.write(data)\n",
    "\n",
    "input_file.close()\n",
    "output_file.close()"
   ]
  }
 ]
}