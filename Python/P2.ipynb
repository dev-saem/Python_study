{
 "metadata": {
  "language_info": {
   "codemirror_mode": {
    "name": "ipython",
    "version": 3
   },
   "file_extension": ".py",
   "mimetype": "text/x-python",
   "name": "python",
   "nbconvert_exporter": "python",
   "pygments_lexer": "ipython3",
   "version": "3.8.5"
  },
  "orig_nbformat": 2,
  "kernelspec": {
   "name": "python3",
   "display_name": "Python 3.8.5 64-bit ('base': conda)"
  },
  "interpreter": {
   "hash": "183aacddadb698040f8fb7a091fc7b8f830702c353ddf1b19dbfe19f01b6d716"
  }
 },
 "nbformat": 4,
 "nbformat_minor": 2,
 "cells": [
  {
   "source": [
    "#### 문제 1. 입력 받은 정수가 짝수인지 홀수인지 판별\n",
    "#### -----------------------------------------------------------------------------------------\n",
    "#### Enter a number : 7\n",
    "#### 7 is Odd number\n",
    "#### Enter a number : 14\n",
    "#### 14 is Even number"
   ],
   "cell_type": "markdown",
   "metadata": {}
  },
  {
   "cell_type": "code",
   "execution_count": 2,
   "metadata": {},
   "outputs": [
    {
     "output_type": "stream",
     "name": "stdout",
     "text": [
      "14 is Even number\n"
     ]
    }
   ],
   "source": [
    "number = int(input(\"Enter a number : \"))\n",
    "if number % 2 == 0:\n",
    "    print(\"%d is Even number\" % number)\n",
    "else :\n",
    "    print(\"%d is Odd number\" % number)"
   ]
  },
  {
   "source": [
    "#### 문제 2. 프로그래밍 과목의 중간고사와 기말고사 점수를 입력 받아 평균과 학점을 구하는 프로그램을 작성하시오.\n",
    "#### 조건)\n",
    "#### - 평균이 90이상 : A\n",
    "#### - 80이상 ~ 90미만 : B\n",
    "#### - 70이상 ~ 80미만 : C\n",
    "#### - 60이상 ~ 70미만 : D\n",
    "#### - 60미만 : F\n",
    "#### -----------------------------------------------------------------------------------------\n",
    "#### Enter your midterm score : 77\n",
    "#### Enter your final score : 56\n",
    "#### Average : 66.5\n",
    "#### Grade : D"
   ],
   "cell_type": "markdown",
   "metadata": {}
  },
  {
   "cell_type": "code",
   "execution_count": 4,
   "metadata": {},
   "outputs": [
    {
     "output_type": "stream",
     "name": "stdout",
     "text": [
      "Average : 66.5\nGrade : D\n"
     ]
    }
   ],
   "source": [
    "mid = float(input(\"Enter your midterm score : \"))\n",
    "final = float(input(\"Enter your final score : \"))\n",
    "avg = (mid+final)/2\n",
    "if (avg >= 90):\n",
    "    grade = 'A'\n",
    "elif (avg >= 80):\n",
    "    grade = 'B'\n",
    "elif (avg >= 70):\n",
    "    grade = 'C'\n",
    "elif (avg >= 60):\n",
    "    grade = 'D'\n",
    "else :\n",
    "    grade = 'F'\n",
    "print(\"Average : %.1f\" % avg)\n",
    "print(\"Grade : %s\" % grade)"
   ]
  },
  {
   "source": [
    "#### 문제 3. 학생수준평가 시험에서 영어 점수와 수학 점수가 합해서 110점 이상이면 합격이다. 단, 각 점수가 40점 미만이면 불합격이다. 영어(eng), 수학(math)점수를 입력 받아 합격여부를 출력하는 프로그램을 작성하시오."
   ],
   "cell_type": "markdown",
   "metadata": {}
  },
  {
   "cell_type": "code",
   "execution_count": 7,
   "metadata": {},
   "outputs": [
    {
     "output_type": "stream",
     "name": "stdout",
     "text": [
      "합격\n"
     ]
    }
   ],
   "source": [
    "eng = int(input(\"영어 점수 입력 : \"))\n",
    "math = int(input(\"수학 점수 입력 : \"))\n",
    "total = math + eng\n",
    "if (total >= 110):\n",
    "    if (math < 40):\n",
    "        print(\"불합격 : 수학점수 부족\")\n",
    "    elif (eng < 40):\n",
    "        print(\"불합격 : 영어점수 부족\")\n",
    "    else :\n",
    "        print(\"합격\")\n",
    "else :\n",
    "    print(\"불합격 : 총합 점수 부족\")"
   ]
  },
  {
   "source": [
    "#### 문제 4. 세 개의 정수를 입력 받아, 가장 큰 수만 출력하는 프로그램을 작성하시오. (max 함수 이용하지 않고 구할 것)\n",
    "#### -----------------------------------------------------------------------------------------\n",
    "#### 세 개의 수를 입력하시오 : 30 22 50\n",
    "#### 가장 큰 수는 50입니다."
   ],
   "cell_type": "markdown",
   "metadata": {}
  },
  {
   "cell_type": "code",
   "execution_count": 9,
   "metadata": {},
   "outputs": [
    {
     "output_type": "stream",
     "name": "stdout",
     "text": [
      "가장 큰 수는 50입니다.\n"
     ]
    }
   ],
   "source": [
    "numbers = input(\"세 개의 수를 입력하시오 : \")\n",
    "n1, n2, n3 = map(int, numbers.split())\n",
    "if n1 > n2 and n1 > n3:\n",
    "    max_value = n1\n",
    "else : \n",
    "    if n2 > n3:\n",
    "        max_value = n2\n",
    "    else:\n",
    "        max_value = n3\n",
    "print(\"가장 큰 수는 %d입니다.\" % max_value)"
   ]
  },
  {
   "source": [
    "#### 문제 5. 단어(문자열)가 주어질 때, 아래와 같이 출력되도록 작성하시오.\n",
    "#### -----------------------------------------------------------------------------------------\n",
    "#### P\n",
    "#### y\n",
    "#### t\n",
    "#### h\n",
    "#### o\n",
    "#### n"
   ],
   "cell_type": "markdown",
   "metadata": {}
  },
  {
   "cell_type": "code",
   "execution_count": 10,
   "metadata": {},
   "outputs": [
    {
     "output_type": "stream",
     "name": "stdout",
     "text": [
      "P\ny\nt\nh\no\nn\n"
     ]
    }
   ],
   "source": [
    "# while 문을 이용하여 작성\n",
    "word = 'Python'\n",
    "index = 0\n",
    "length = len(word)\n",
    "while index < length:\n",
    "    print(word[index])\n",
    "    index += 1"
   ]
  },
  {
   "cell_type": "code",
   "execution_count": 11,
   "metadata": {},
   "outputs": [
    {
     "output_type": "stream",
     "name": "stdout",
     "text": [
      "P\ny\nt\nh\no\nn\n"
     ]
    }
   ],
   "source": [
    "# for 문을 이용하여 작성 (단, range()를 이용하지 않는다.)\n",
    "word = \"Python\"\n",
    "for letter in word:\n",
    "    print(letter)"
   ]
  },
  {
   "source": [
    "#### 문제 6. 아래와 같이 출력되는 프로그램을 작성하시오.\n",
    "#### -----------------------------------------------------------------------------------------\n",
    "#### 10, 9, 8, 7, 6, 5, 4, 3, 2, 1, Happy new year!!"
   ],
   "cell_type": "markdown",
   "metadata": {}
  },
  {
   "cell_type": "code",
   "execution_count": 15,
   "metadata": {},
   "outputs": [
    {
     "output_type": "stream",
     "name": "stdout",
     "text": [
      "10, 9, 8, 7, 6, 5, 4, 3, 2, 1, Happy new year!!\n"
     ]
    }
   ],
   "source": [
    "# for 문을 이용하여 작성\n",
    "for i in range(10, 0, -1):\n",
    "    print(\"%d, \" %i, end = '')\n",
    "print(\"Happy new year!!\")"
   ]
  },
  {
   "cell_type": "code",
   "execution_count": 16,
   "metadata": {},
   "outputs": [
    {
     "output_type": "stream",
     "name": "stdout",
     "text": [
      "10, 9, 8, 7, 6, 5, 4, 3, 2, 1, Happy new year!!\n"
     ]
    }
   ],
   "source": [
    "# while 문을 이용하여 작성\n",
    "i = 10\n",
    "while i > 0:\n",
    "    print(\"%d, \" % i, end = '')\n",
    "    i -= 1\n",
    "print(\"Happy new year!!\")"
   ]
  },
  {
   "source": [
    "#### 문제 7. 양의 두 정수 a,b를 입력 받아, a부터 b까지의 정수의 합을 구하여 출력하는 프로그램을 작성하시오. (for 또는 while을 이용할 것)\n",
    "#### 단, 조건 a <= b을 만족하는 값만 고려한다.\n",
    "#### -----------------------------------------------------------------------------------------\n",
    "#### Enter two integers : 5 10\n",
    "#### The sum from 5 to 10 is 45"
   ],
   "cell_type": "markdown",
   "metadata": {}
  },
  {
   "cell_type": "code",
   "execution_count": 18,
   "metadata": {},
   "outputs": [
    {
     "output_type": "stream",
     "name": "stdout",
     "text": [
      "The sum from 5 to 10 is 45\n"
     ]
    }
   ],
   "source": [
    "nums = input(\"Enter two integers : \")\n",
    "a, b = map(int, nums.split())\n",
    "total = 0\n",
    "for n in range(a, b+1):\n",
    "    total += n\n",
    "print(\"The sum from %d to %d is %d\" % (a, b, total))"
   ]
  },
  {
   "source": [
    "#### 문제 8. 주어진 문자열에 문자 a가 몇 개 있는지 구하는 프로그램을 작성하시오. (for문 사용할 것)\n",
    "#### -----------------------------------------------------------------------------------------\n",
    "#### word = 'banana'\n",
    "#### count : 3"
   ],
   "cell_type": "markdown",
   "metadata": {}
  },
  {
   "cell_type": "code",
   "execution_count": 21,
   "metadata": {},
   "outputs": [
    {
     "output_type": "stream",
     "name": "stdout",
     "text": [
      "count : 3\n"
     ]
    }
   ],
   "source": [
    "word = 'banana'\n",
    "count = 0\n",
    "for letter in word:\n",
    "    if letter == 'a':\n",
    "        count += 1\n",
    "print(\"count : %d\" % count)"
   ]
  },
  {
   "source": [
    "#### 문제 9. for 문과 range()함수를 이용하여 다음과 같이 출력되도록 작성하시오.\n",
    "#### -----------------------------------------------------------------------------------------\n",
    "#### 0 1 2 3 4 5 6 7 8 9\n",
    "#### 0 5 10 15 20 25 30 35 40 45 50\n",
    "#### 10 9 8 7 6 5 4 3 2 1"
   ],
   "cell_type": "markdown",
   "metadata": {}
  },
  {
   "cell_type": "code",
   "execution_count": 23,
   "metadata": {},
   "outputs": [
    {
     "output_type": "stream",
     "name": "stdout",
     "text": [
      "0 1 2 3 4 5 6 7 8 9 \n0 5 10 15 20 25 30 35 40 45 50 \n10 9 8 7 6 5 4 3 2 1 "
     ]
    }
   ],
   "source": [
    "for i in range(10):\n",
    "    print(i, end = ' ')\n",
    "print('')\n",
    "\n",
    "for i in range(0, 51, 5):\n",
    "    print(i, end = ' ')\n",
    "print('')\n",
    "\n",
    "for i in range(10, 0, -1):\n",
    "    print(i, end = ' ')"
   ]
  },
  {
   "source": [
    "#### 문제 10. for 문을 사용하여 리스트(colors)의 모든 내용을 출력하시오. (단, range()를 이용하지 않는다.)\n",
    "#### -----------------------------------------------------------------------------------------\n",
    "#### red\n",
    "#### green\n",
    "#### blue"
   ],
   "cell_type": "markdown",
   "metadata": {}
  },
  {
   "cell_type": "code",
   "execution_count": 25,
   "metadata": {},
   "outputs": [
    {
     "output_type": "stream",
     "name": "stdout",
     "text": [
      "red\ngreen\nblue\n"
     ]
    }
   ],
   "source": [
    "colors = [\"red\", \"green\", \"blue\"]\n",
    "for x in colors:\n",
    "    print(x)"
   ]
  },
  {
   "source": [
    "#### 문제 11. 리스트 a 전체를 반복해서 방문하되, 짝수만 출력하시오. (for 문 사용)\n",
    "#### -----------------------------------------------------------------------------------------\n",
    "#### 4 6 8 10 12"
   ],
   "cell_type": "markdown",
   "metadata": {}
  },
  {
   "cell_type": "code",
   "execution_count": 26,
   "metadata": {},
   "outputs": [
    {
     "output_type": "stream",
     "name": "stdout",
     "text": [
      "4 6 8 10 12 "
     ]
    }
   ],
   "source": [
    "a = [1, 3, 4, 5, 6, 7, 8, 9, 10, 11, 12, 13]\n",
    "for x in a:\n",
    "    if x % 2 == 0:\n",
    "        print(x, end = ' ')"
   ]
  },
  {
   "source": [
    "#### 문제 12. 구구단 출력\n",
    "#### -----------------------------------------------------------------------------------------\n",
    "#### 출력하고 싶은 단을 입력하세요 : 7\n",
    "#### 7 * 1 = 7\n",
    "#### 7 * 2 = 14\n",
    "#### 7 * 3 = 21\n",
    "#### 7 * 4 = 28\n",
    "#### 7 * 5 = 35\n",
    "#### 7 * 6 = 42\n",
    "#### 7 * 7 = 49\n",
    "#### 7 * 8 = 56\n",
    "#### 7 * 9 = 36"
   ],
   "cell_type": "markdown",
   "metadata": {}
  },
  {
   "cell_type": "code",
   "execution_count": 28,
   "metadata": {},
   "outputs": [
    {
     "output_type": "stream",
     "name": "stdout",
     "text": [
      "7 * 1 = 7\n7 * 2 = 14\n7 * 3 = 21\n7 * 4 = 28\n7 * 5 = 35\n7 * 6 = 42\n7 * 7 = 49\n7 * 8 = 56\n7 * 9 = 63\n"
     ]
    }
   ],
   "source": [
    "dan = int(input(\"출력하고 싶은 단을 입력하세요 : \"))\n",
    "for i in range(1, 10):\n",
    "    print(\"%d * %d = %d\" % (dan, i, dan*i))"
   ]
  },
  {
   "source": [
    "#### 문제 13. 구구단 출력1 (중첩 반복문)\n",
    "#### -----------------------------------------------------------------------------------------\n",
    "#### == 2단 ==\n",
    "#### 2 * 1 = 2\n",
    "#### 2 * 2 = 4\n",
    "#### 2 * 3 = 6\n",
    "#### 2 * 4 = 8\n",
    "#### 2 * 5 = 10\n",
    "#### 2 * 6 = 12\n",
    "#### 2 * 7 = 14\n",
    "#### 2 * 8 = 16\n",
    "#### 2 * 9 = 18\n",
    "#### == 3단 ==\n",
    "#### 3 * 1 = 3\n",
    "#### 3 * 2 = 6\n",
    "#### --- 중략 ---\n",
    "#### 9 * 8 = 72\n",
    "#### 9 * 9 = 81"
   ],
   "cell_type": "markdown",
   "metadata": {}
  },
  {
   "cell_type": "code",
   "execution_count": 30,
   "metadata": {},
   "outputs": [
    {
     "output_type": "stream",
     "name": "stdout",
     "text": [
      "== 2단 ==\n2 * 1 = 2\n2 * 2 = 4\n2 * 3 = 6\n2 * 4 = 8\n2 * 5 = 10\n2 * 6 = 12\n2 * 7 = 14\n2 * 8 = 16\n2 * 9 = 18\n== 3단 ==\n3 * 1 = 3\n3 * 2 = 6\n3 * 3 = 9\n3 * 4 = 12\n3 * 5 = 15\n3 * 6 = 18\n3 * 7 = 21\n3 * 8 = 24\n3 * 9 = 27\n== 4단 ==\n4 * 1 = 4\n4 * 2 = 8\n4 * 3 = 12\n4 * 4 = 16\n4 * 5 = 20\n4 * 6 = 24\n4 * 7 = 28\n4 * 8 = 32\n4 * 9 = 36\n== 5단 ==\n5 * 1 = 5\n5 * 2 = 10\n5 * 3 = 15\n5 * 4 = 20\n5 * 5 = 25\n5 * 6 = 30\n5 * 7 = 35\n5 * 8 = 40\n5 * 9 = 45\n== 6단 ==\n6 * 1 = 6\n6 * 2 = 12\n6 * 3 = 18\n6 * 4 = 24\n6 * 5 = 30\n6 * 6 = 36\n6 * 7 = 42\n6 * 8 = 48\n6 * 9 = 54\n== 7단 ==\n7 * 1 = 7\n7 * 2 = 14\n7 * 3 = 21\n7 * 4 = 28\n7 * 5 = 35\n7 * 6 = 42\n7 * 7 = 49\n7 * 8 = 56\n7 * 9 = 63\n== 8단 ==\n8 * 1 = 8\n8 * 2 = 16\n8 * 3 = 24\n8 * 4 = 32\n8 * 5 = 40\n8 * 6 = 48\n8 * 7 = 56\n8 * 8 = 64\n8 * 9 = 72\n== 9단 ==\n9 * 1 = 9\n9 * 2 = 18\n9 * 3 = 27\n9 * 4 = 36\n9 * 5 = 45\n9 * 6 = 54\n9 * 7 = 63\n9 * 8 = 72\n9 * 9 = 81\n"
     ]
    }
   ],
   "source": [
    "for i in range(2, 10):\n",
    "    print(\"== %d단 ==\" % i)\n",
    "    for j in range(1, 10):\n",
    "        print(\"%d * %d = %d\" % (i, j, i*j))"
   ]
  },
  {
   "source": [
    "#### 문제 14. 구구단 출력2 (중첩 반복문)\n",
    "#### -----------------------------------------------------------------------------------------\n",
    "#### 2 × 1 = 2   3 × 1 = 3   4 × 1 = 4   5 × 1 = 5   6 × 1 = 6   7 × 1 = 7   8 × 1 = 8   9 × 1 = 9 \n",
    "#### 2 × 2 = 4   3 × 2 = 6   4 × 2 = 8   5 × 2 = 10  6 × 2 = 12  7 × 2 = 14  8 × 2 = 16  9 × 2 = 18\n",
    "#### 2 × 3 = 6   3 × 3 = 9   4 × 3 = 12  5 × 3 = 15  6 × 3 = 18  7 × 3 = 21  8 × 3 = 24  9 × 3 = 27\n",
    "#### 2 × 4 = 8   3 × 4 = 12  4 × 4 = 16  5 × 4 = 20  6 × 4 = 24  7 × 4 = 28  8 × 4 = 32  9 × 4 = 36\n",
    "#### 2 × 5 = 10  3 × 5 = 15  4 × 5 = 20  5 × 5 = 25  6 × 5 = 30  7 × 5 = 35  8 × 5 = 40  9 × 5 = 45\n",
    "#### 2 × 6 = 12  3 × 6 = 18  4 × 6 = 24  5 × 6 = 30  6 × 6 = 36  7 × 6 = 42  8 × 6 = 48  9 × 6 = 54\n",
    "#### 2 × 7 = 14  3 × 7 = 21  4 × 7 = 28  5 × 7 = 35  6 × 7 = 42  7 × 7 = 49  8 × 7 = 56  9 × 7 = 63\n",
    "#### 2 × 8 = 16  3 × 8 = 24  4 × 8 = 32  5 × 8 = 40  6 × 8 = 48  7 × 8 = 56  8 × 8 = 64  9 × 8 = 72\n",
    "#### 2 × 9 = 18  3 × 9 = 27  4 × 9 = 36  5 × 9 = 45  6 × 9 = 54  7 × 9 = 63  8 × 9 = 72  9 × 9 = 81"
   ],
   "cell_type": "markdown",
   "metadata": {}
  },
  {
   "cell_type": "code",
   "execution_count": 32,
   "metadata": {},
   "outputs": [
    {
     "output_type": "stream",
     "name": "stdout",
     "text": [
      "1 * 2 = 2 1 * 3 = 3 1 * 4 = 4 1 * 5 = 5 1 * 6 = 6 1 * 7 = 7 1 * 8 = 8 1 * 9 = 9 \n2 * 2 = 4 2 * 3 = 6 2 * 4 = 8 2 * 5 = 10 2 * 6 = 12 2 * 7 = 14 2 * 8 = 16 2 * 9 = 18 \n3 * 2 = 6 3 * 3 = 9 3 * 4 = 12 3 * 5 = 15 3 * 6 = 18 3 * 7 = 21 3 * 8 = 24 3 * 9 = 27 \n4 * 2 = 8 4 * 3 = 12 4 * 4 = 16 4 * 5 = 20 4 * 6 = 24 4 * 7 = 28 4 * 8 = 32 4 * 9 = 36 \n5 * 2 = 10 5 * 3 = 15 5 * 4 = 20 5 * 5 = 25 5 * 6 = 30 5 * 7 = 35 5 * 8 = 40 5 * 9 = 45 \n6 * 2 = 12 6 * 3 = 18 6 * 4 = 24 6 * 5 = 30 6 * 6 = 36 6 * 7 = 42 6 * 8 = 48 6 * 9 = 54 \n7 * 2 = 14 7 * 3 = 21 7 * 4 = 28 7 * 5 = 35 7 * 6 = 42 7 * 7 = 49 7 * 8 = 56 7 * 9 = 63 \n8 * 2 = 16 8 * 3 = 24 8 * 4 = 32 8 * 5 = 40 8 * 6 = 48 8 * 7 = 56 8 * 8 = 64 8 * 9 = 72 \n9 * 2 = 18 9 * 3 = 27 9 * 4 = 36 9 * 5 = 45 9 * 6 = 54 9 * 7 = 63 9 * 8 = 72 9 * 9 = 81 \n"
     ]
    }
   ],
   "source": [
    "for i in range(1, 10):\n",
    "    for j in range(2, 10):\n",
    "        print(\"%d * %d = %d\" % (i, j, i*j), end = ' ')\n",
    "    print('')"
   ]
  },
  {
   "source": [
    "#### 문제 15. 출력 프로그램\n",
    "#### -----------------------------------------------------------------------------------------\n",
    "#### Input an Integer : 3159\n",
    "#### ★★★\n",
    "#### ★\n",
    "#### ★★★★★\n",
    "#### ★★★★★★★★★"
   ],
   "cell_type": "markdown",
   "metadata": {}
  },
  {
   "cell_type": "code",
   "execution_count": 3,
   "metadata": {},
   "outputs": [
    {
     "output_type": "stream",
     "name": "stdout",
     "text": [
      "★★★\n★\n★★★★★\n★★★★★★★★★\n"
     ]
    }
   ],
   "source": [
    "# 1번째 방법\n",
    "number = input(\"Input an integer : \")\n",
    "for s in number:\n",
    "    print(\"★\" * int(s))"
   ]
  },
  {
   "cell_type": "code",
   "execution_count": 4,
   "metadata": {},
   "outputs": [
    {
     "output_type": "stream",
     "name": "stdout",
     "text": [
      "★★★\n★\n★★★★★\n★★★★★★★★★\n"
     ]
    }
   ],
   "source": [
    "# 2번째 방법\n",
    "number = input(\"Input an integer : \")\n",
    "for s in number:\n",
    "    star = \"\"\n",
    "    for i in range(int(s)):\n",
    "        star += \"★\"\n",
    "    print(star)"
   ]
  },
  {
   "source": [
    "#### 16. \"done\"을 입력할 때까지 사용자로부터 숫자를 입력 받아 리스트에 저장하고, \"done\"을 입력하면, 리스트의 평균, 최대값과 최소값을 출력하는 프로그램을 작성하시오.\n",
    "#### 힌트) sum(), max(), min() 함수를 사용\n",
    "#### -----------------------------------------------------------------------------------------\n",
    "#### Enter a number : 7\n",
    "#### Enter a number : 2\n",
    "#### Enter a number : 9\n",
    "#### Enter a number : 3\n",
    "#### Enter a number : 5\n",
    "#### Enter a number : done\n",
    "#### (7.0, 2.0, 9.0, 3.0, 5.0)\n",
    "#### Average : 5.2\n",
    "#### Maximum : 9.0\n",
    "#### Minimum : 2.0"
   ],
   "cell_type": "markdown",
   "metadata": {}
  },
  {
   "cell_type": "code",
   "execution_count": 6,
   "metadata": {},
   "outputs": [
    {
     "output_type": "stream",
     "name": "stdout",
     "text": [
      "[7.0, 2.0, 9.0, 3.0, 5.0]\nAverage :  5.2\nMaximum :  9.0\nMinimum :  2.0\n"
     ]
    }
   ],
   "source": [
    "li = []\n",
    "while True:\n",
    "    input_value = input(\"Enter a number : \")\n",
    "    if input_value == \"done\":\n",
    "        break\n",
    "    li.append(float(input_value))\n",
    "print(li)\n",
    "print(\"Average : \", sum(li)/len(li))\n",
    "print(\"Maximum : \", max(li))\n",
    "print(\"Minimum : \", min(li))"
   ]
  }
 ]
}